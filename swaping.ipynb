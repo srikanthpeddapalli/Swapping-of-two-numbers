{
 "cells": [
  {
   "cell_type": "markdown",
   "id": "2eb87dad",
   "metadata": {},
   "source": [
    "# Python Program to swap two variables"
   ]
  },
  {
   "cell_type": "code",
   "execution_count": 3,
   "id": "ef0d629b",
   "metadata": {},
   "outputs": [
    {
     "name": "stdout",
     "output_type": "stream",
     "text": [
      "Enter the value of x3\n",
      "Enter the value of y12\n",
      "The value ofx is 12\n",
      "he value of y is 3\n"
     ]
    }
   ],
   "source": [
    "#using a temporary varibale\n",
    "x=int(input(\"Enter the value of x\"))\n",
    "y=int(input(\"Enter the value of y\"))\n",
    "temp=x\n",
    "x=y\n",
    "y=temp\n",
    "print(f\"The value ofx is {x}\")\n",
    "print(f\"he value of y is {y}\")\n",
    "      "
   ]
  },
  {
   "cell_type": "code",
   "execution_count": 5,
   "id": "9115d7ff",
   "metadata": {},
   "outputs": [
    {
     "name": "stdout",
     "output_type": "stream",
     "text": [
      "Enter the value23\n",
      "Enter the value12\n",
      "12\n",
      "23\n"
     ]
    }
   ],
   "source": [
    "#Without the temporary variable\n",
    "x=int(input(\"Enter the value\"))\n",
    "y=int(input(\"Enter the value\"))\n",
    "x,y=y,x\n",
    "print(x)\n",
    "print(y)"
   ]
  },
  {
   "cell_type": "code",
   "execution_count": 6,
   "id": "438d301e",
   "metadata": {},
   "outputs": [
    {
     "name": "stdout",
     "output_type": "stream",
     "text": [
      "5\n",
      "34\n"
     ]
    }
   ],
   "source": [
    "#Using the Addition and Subtarction\n",
    "x=34\n",
    "y=5\n",
    "x=x+y\n",
    "y=x-y\n",
    "x=x-y\n",
    "print(x)\n",
    "print(y)"
   ]
  },
  {
   "cell_type": "code",
   "execution_count": 7,
   "id": "51c32c9b",
   "metadata": {},
   "outputs": [
    {
     "name": "stdout",
     "output_type": "stream",
     "text": [
      "89.0\n",
      "56.0\n"
     ]
    }
   ],
   "source": [
    "#Using the Multiplication and Division\n",
    "x=56\n",
    "y=89\n",
    "x=x*y\n",
    "y=x/y\n",
    "x=x/y\n",
    "print(x)\n",
    "print(y)"
   ]
  },
  {
   "cell_type": "code",
   "execution_count": 8,
   "id": "db3fd8e8",
   "metadata": {},
   "outputs": [
    {
     "name": "stdout",
     "output_type": "stream",
     "text": [
      "56\n",
      "34\n"
     ]
    }
   ],
   "source": [
    "#XOR swap\n",
    "x=34\n",
    "y=56\n",
    "x=x^y\n",
    "y=x^y\n",
    "x=x^y\n",
    "print(x)\n",
    "print(y)"
   ]
  },
  {
   "cell_type": "code",
   "execution_count": null,
   "id": "c61ea02b",
   "metadata": {},
   "outputs": [],
   "source": []
  }
 ],
 "metadata": {
  "kernelspec": {
   "display_name": "Python 3 (ipykernel)",
   "language": "python",
   "name": "python3"
  },
  "language_info": {
   "codemirror_mode": {
    "name": "ipython",
    "version": 3
   },
   "file_extension": ".py",
   "mimetype": "text/x-python",
   "name": "python",
   "nbconvert_exporter": "python",
   "pygments_lexer": "ipython3",
   "version": "3.9.7"
  }
 },
 "nbformat": 4,
 "nbformat_minor": 5
}
